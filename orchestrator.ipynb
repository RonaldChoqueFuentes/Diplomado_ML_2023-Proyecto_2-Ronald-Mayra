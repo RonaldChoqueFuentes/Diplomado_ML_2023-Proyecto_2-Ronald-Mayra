{
  "cells": [
    {
      "cell_type": "code",
      "execution_count": 2,
      "id": "77f23d0c-98d1-415d-a8ad-958508257b37",
      "metadata": {
        "gather": {
          "logged": 1699293151217
        }
      },
      "outputs": [],
      "source": [
        "from azure.ai.ml import load_component\n",
        "from azure.ai.ml.dsl import pipeline\n",
        "from azure.ai.ml import MLClient, Input\n",
        "from azure.identity import DefaultAzureCredential, EnvironmentCredential\n",
        "from azure.ai.ml.entities import AmlCompute\n",
        "from dotenv import load_dotenv\n",
        "import os\n",
        "import pandas as pd"
      ]
    },
    {
      "cell_type": "code",
      "execution_count": 4,
      "id": "66bc4830-ea29-4f99-9646-a64e7dd64956",
      "metadata": {
        "gather": {
          "logged": 1699293184051
        }
      },
      "outputs": [],
      "source": [
        "def get_comput_target(ml_client, name=\"cpu-cluster\", family='Standard_DS2_v2'):\n",
        "    cpu_compute_target = name\n",
        "    \n",
        "    try:\n",
        "        # let's see if the compute target already exists\n",
        "        cpu_cluster = ml_client.compute.get(cpu_compute_target)\n",
        "    except Exception:\n",
        "        cpu_cluster = AmlCompute(\n",
        "            name=cpu_compute_target,\n",
        "            type=\"amlcompute\",\n",
        "            size=family,\n",
        "            min_instances=0,\n",
        "            max_instances=4,\n",
        "            idle_time_before_scale_down=180,\n",
        "            tier=\"Dedicated\",\n",
        "        )\n",
        "    \n",
        "        cpu_cluster = ml_client.compute.begin_create_or_update(cpu_cluster).result()"
      ]
    },
    {
      "cell_type": "code",
      "execution_count": 5,
      "id": "12ba65d9-9bbd-49ce-9518-711713a4f426",
      "metadata": {
        "gather": {
          "logged": 1699293186738
        },
        "jupyter": {
          "outputs_hidden": false,
          "source_hidden": false
        },
        "nteract": {
          "transient": {
            "deleting": false
          }
        }
      },
      "outputs": [
        {
          "name": "stderr",
          "output_type": "stream",
          "text": [
            "Found the config file in: /config.json\n"
          ]
        }
      ],
      "source": [
        "def get_azure_credential(subscription_id, resource_group, ):\n",
        "    credential = DefaultAzureCredential()\n",
        "    ml_client = MLClient.from_config(credential)\n",
        "    ml_client =  MLClient(credential, subscription_id, resource_group, workspace)\n",
        "    return ml_client\n",
        "\n",
        "ml_client = get_azure_credential(\"subscription_id\", \"resource_group\", \"workspace\")\n",
        "data_store_uri_file = \"azureml://subscriptions/46169265-43c5-42f4-b171-b27bdd8e5afa/resourcegroups/rchoque/workspaces/rc_ml_test/datastores/workspaceblobstore/paths/UI/2023-11-04_184502_UTC/water_potability.csv\"\n",
        "\n"
      ]
    },
    {
      "cell_type": "code",
      "execution_count": 6,
      "id": "652fff8c-f2b9-4741-995e-e3bdae0bed71",
      "metadata": {
        "gather": {
          "logged": 1699293190111
        }
      },
      "outputs": [],
      "source": [
        "compute_target = get_comput_target(ml_client, name=\"cpu-cluster\")"
      ]
    },
    {
      "cell_type": "code",
      "execution_count": 7,
      "id": "fd4e05e1-fa4d-492f-9880-5c36e83c9806",
      "metadata": {
        "gather": {
          "logged": 1699293193332
        }
      },
      "outputs": [],
      "source": [
        "clean_component = load_component(source=\"./components/clean-component/clean.yml\")\n",
        "split_component = load_component(source=\"./components/split-component/split.yml\")\n",
        "\n",
        "logistic_regression_component = load_component(source=\"./components/logistic-regression-component/logistic_regression.yml\")\n",
        "logistic_score_component = load_component(source=\"./components/logistic-score-component/logistic_score.yml\")\n",
        "logistic_eval_component = load_component(source=\"./components/logistic-eval-component/logistic_eval.yml\")\n",
        "\n",
        "\n",
        "\n"
      ]
    },
    {
      "cell_type": "code",
      "execution_count": 8,
      "id": "72d02a7e-9428-4b1c-82a7-fe86ce67a0f5",
      "metadata": {
        "gather": {
          "logged": 1699293204383
        }
      },
      "outputs": [],
      "source": [
        "# define a pipeline containing 3 nodes: Prepare data node, train node, and score node\n",
        "@pipeline(\n",
        "    default_compute='cpu-cluster',\n",
        ")\n",
        "\n",
        "def water_potability_decision_tree_dummy(pipeline_input_data):\n",
        "    \n",
        "    clean_node = clean_component(training_data=pipeline_input_data)\n",
        "\n",
        "    split_node = split_component(clean_data=clean_node.outputs.model_output)\n",
        "\n",
        "\n",
        "    logistic_regression = logistic_regression_component(training_data=split_node.outputs.training_data)\n",
        "    \n",
        "    #train_node.compute = gpu_compute_target\n",
        "\n",
        "    score_node = logistic_score_component(\n",
        "        test_data=split_node.outputs.testing_data,\n",
        "        model_input=logistic_regression.outputs.model_output\n",
        "    )\n",
        "\n",
        "    eval_node = logistic_eval_component(\n",
        "        scoring_result=score_node.outputs.score_output,\n",
        "        test_data = split_node.outputs.testing_data\n",
        "    )\n",
        "\n",
        "    return {\n",
        "        \"pipeline_eval_output\": eval_node.outputs.eval_output\n",
        "    }\n"
      ]
    },
    {
      "cell_type": "code",
      "execution_count": 9,
      "id": "0f5e8ec4-9df3-4a42-9420-99f4ab79ab70",
      "metadata": {
        "gather": {
          "logged": 1699293209221
        },
        "jupyter": {
          "outputs_hidden": false,
          "source_hidden": false
        },
        "nteract": {
          "transient": {
            "deleting": false
          }
        }
      },
      "outputs": [],
      "source": [
        "\n",
        "\n",
        "# create a pipeline\n",
        "water_potability_ds =  Input(type=\"uri_file\", path=data_store_uri_file)\n",
        "\n",
        "pipeline_job = water_potability_decision_tree_dummy(pipeline_input_data=water_potability_ds)\n"
      ]
    },
    {
      "cell_type": "code",
      "execution_count": 10,
      "id": "2f0960eb-8e26-430b-a9f1-d491620b90b6",
      "metadata": {
        "gather": {
          "logged": 1699287528281
        }
      },
      "outputs": [
        {
          "name": "stderr",
          "output_type": "stream",
          "text": [
            "Class AutoDeleteSettingSchema: This is an experimental class, and may change at any time. Please see https://aka.ms/azuremlexperimental for more information.\n",
            "Class AutoDeleteConditionSchema: This is an experimental class, and may change at any time. Please see https://aka.ms/azuremlexperimental for more information.\n",
            "Class BaseAutoDeleteSettingSchema: This is an experimental class, and may change at any time. Please see https://aka.ms/azuremlexperimental for more information.\n",
            "Class IntellectualPropertySchema: This is an experimental class, and may change at any time. Please see https://aka.ms/azuremlexperimental for more information.\n",
            "Class ProtectionLevelSchema: This is an experimental class, and may change at any time. Please see https://aka.ms/azuremlexperimental for more information.\n",
            "Class BaseIntellectualPropertySchema: This is an experimental class, and may change at any time. Please see https://aka.ms/azuremlexperimental for more information.\n"
          ]
        }
      ],
      "source": [
        "pipeline_job = ml_client.jobs.create_or_update(\n",
        "    pipeline_job, experiment_name=\"pipeline_water_potability_dummy\"\n",
        ")\n",
        "pipeline_job"
      ]
    },
    {
      "cell_type": "code",
      "execution_count": 21,
      "id": "c861cb3c-efb3-44be-a781-952efbe7a760",
      "metadata": {},
      "outputs": [
        {
          "name": "stdout",
          "output_type": "stream",
          "text": [
            "RunId: salmon_cumin_x219mxk1k3\n",
            "Web View: https://ml.azure.com/runs/salmon_cumin_x219mxk1k3?wsid=/subscriptions/46169265-43c5-42f4-b171-b27bdd8e5afa/resourcegroups/rchoque/workspaces/rc_ml_test\n"
          ]
        }
      ],
      "source": [
        "# wait until the job completes\n",
        "ml_client.jobs.stream(pipeline_job.name)\n"
      ]
    },
    {
      "cell_type": "code",
      "execution_count": 32,
      "id": "bb9474d1-ffff-48ca-8913-50e96ce0fef8",
      "metadata": {},
      "outputs": [
        {
          "name": "stderr",
          "output_type": "stream",
          "text": [
            "Downloading artifact azureml://subscriptions/b24420ec-4741-4157-b7a7-dce7f5d571f4/resourcegroups/DefaultResourceGroup-eastus2/workspaces/ucb-ws/datastores/workspaceblobstore/paths/azureml/56d1fd7e-6be9-4c74-8ea3-b4a6cb73736c/eval_output/ to pipeline_output/named-outputs/pipeline_eval_output\n",
            "Downloading artifact azureml://datastores/workspaceartifactstore/paths/ExperimentRun/dcid.helpful_tongue_mk8s16t1l6/ to pipeline_output/artifacts\n"
          ]
        }
      ],
      "source": [
        "# Download all the outputs of the job\n",
        "output = ml_client.jobs.download(name=pipeline_job.name, download_path='./pipeline_output', all=True)"
      ]
    },
    {
      "cell_type": "code",
      "execution_count": null,
      "id": "0700ea8a-9599-4baf-aaea-3c28b3d8c469",
      "metadata": {},
      "outputs": [],
      "source": []
    }
  ],
  "metadata": {
    "kernel_info": {
      "name": "python38-azureml"
    },
    "kernelspec": {
      "display_name": "Python 3.8 - AzureML",
      "language": "python",
      "name": "python38-azureml"
    },
    "language_info": {
      "codemirror_mode": {
        "name": "ipython",
        "version": 3
      },
      "file_extension": ".py",
      "mimetype": "text/x-python",
      "name": "python",
      "nbconvert_exporter": "python",
      "pygments_lexer": "ipython3",
      "version": "3.8.5"
    },
    "microsoft": {
      "host": {
        "AzureML": {
          "notebookHasBeenCompleted": true
        }
      },
      "ms_spell_check": {
        "ms_spell_check_language": "en"
      }
    },
    "nteract": {
      "version": "nteract-front-end@1.0.0"
    }
  },
  "nbformat": 4,
  "nbformat_minor": 5
}
