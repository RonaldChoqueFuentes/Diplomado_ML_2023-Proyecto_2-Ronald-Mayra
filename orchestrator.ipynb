{
  "cells": [
    {
      "cell_type": "code",
      "execution_count": 18,
      "id": "77f23d0c-98d1-415d-a8ad-958508257b37",
      "metadata": {
        "gather": {
          "logged": 1699329993886
        }
      },
      "outputs": [],
      "source": [
        "from azure.ai.ml import load_component\n",
        "from azure.ai.ml.dsl import pipeline\n",
        "from azure.ai.ml import MLClient, Input\n",
        "from azure.identity import DefaultAzureCredential, EnvironmentCredential\n",
        "from azure.ai.ml.entities import AmlCompute\n",
        "from dotenv import load_dotenv\n",
        "import os\n",
        "import pandas as pd"
      ]
    },
    {
      "cell_type": "markdown",
      "id": "07878128-2b2c-4ccb-9180-e46a9cc70720",
      "metadata": {
        "nteract": {
          "transient": {
            "deleting": false
          }
        }
      },
      "source": [
        "** Init variables**"
      ]
    },
    {
      "cell_type": "code",
      "execution_count": 44,
      "id": "97a38538-067a-4f66-9c47-f17dad0082e6",
      "metadata": {
        "gather": {
          "logged": 1699332537178
        },
        "jupyter": {
          "outputs_hidden": false,
          "source_hidden": false
        },
        "nteract": {
          "transient": {
            "deleting": false
          }
        }
      },
      "outputs": [],
      "source": [
        "subcription = \"\"\n",
        "resource_group = \"\"\n",
        "workspace_name = \"\"\n",
        "uri_file_path =  \"./data/water_potability.csv\""
      ]
    },
    {
      "cell_type": "code",
      "execution_count": 19,
      "id": "66bc4830-ea29-4f99-9646-a64e7dd64956",
      "metadata": {
        "gather": {
          "logged": 1699329997019
        }
      },
      "outputs": [],
      "source": [
        "def get_comput_target(ml_client, name=\"cpu-cluster\", family='Standard_DS2_v2'):\n",
        "    cpu_compute_target = name\n",
        "    \n",
        "    try:\n",
        "        # let's see if the compute target already exists\n",
        "        cpu_cluster = ml_client.compute.get(cpu_compute_target)\n",
        "    except Exception:\n",
        "        cpu_cluster = AmlCompute(\n",
        "            name=cpu_compute_target,\n",
        "            type=\"amlcompute\",\n",
        "            size=family,\n",
        "            min_instances=0,\n",
        "            max_instances=4,\n",
        "            idle_time_before_scale_down=180,\n",
        "            tier=\"Dedicated\",\n",
        "        )\n",
        "    \n",
        "        cpu_cluster = ml_client.compute.begin_create_or_update(cpu_cluster).result()"
      ]
    },
    {
      "cell_type": "code",
      "execution_count": 20,
      "id": "12ba65d9-9bbd-49ce-9518-711713a4f426",
      "metadata": {
        "gather": {
          "logged": 1699330001540
        },
        "jupyter": {
          "outputs_hidden": false,
          "source_hidden": false
        },
        "nteract": {
          "transient": {
            "deleting": false
          }
        }
      },
      "outputs": [
        {
          "name": "stderr",
          "output_type": "stream",
          "text": [
            "Found the config file in: /config.json\n"
          ]
        }
      ],
      "source": [
        "\n",
        "def get_azure_credential(subscription_id, resource_group,workspace ):\n",
        "    credential = DefaultAzureCredential()\n",
        "    ml_client = MLClient.from_config(credential)\n",
        "    ml_client =  MLClient(credential, subscription_id, resource_group, workspace)\n",
        "    return ml_client\n",
        "\n",
        "ml_client = get_azure_credential(subcription, resource_group, workspace_name)\n",
        "data_store_uri_file = uri_file_path"
      ]
    },
    {
      "cell_type": "code",
      "execution_count": 6,
      "id": "652fff8c-f2b9-4741-995e-e3bdae0bed71",
      "metadata": {
        "gather": {
          "logged": 1699327935396
        }
      },
      "outputs": [],
      "source": [
        "compute_target = get_comput_target(ml_client, name=\"cpu-cluster\")"
      ]
    },
    {
      "cell_type": "code",
      "execution_count": 38,
      "id": "fd4e05e1-fa4d-492f-9880-5c36e83c9806",
      "metadata": {
        "gather": {
          "logged": 1699331791837
        }
      },
      "outputs": [],
      "source": [
        "clean_component = load_component(source=\"./components/clean-component/clean.yml\")\n",
        "split_component = load_component(source=\"./components/split-component/split.yml\")\n",
        "\n",
        "tree_regression_component = load_component(source=\"./components/decission-trees-component/decission_trees.yml\")\n",
        "logistic_regression_component = load_component(source=\"./components/logistic-regression-component/logistic_regression.yml\")\n",
        "\n",
        "logistic_score_component = load_component(source=\"./components/score-component/score.yml\")\n",
        "tree_score_component = load_component(source=\"./components/score-component/score.yml\")\n",
        "\n",
        "logistic_eval_component = load_component(source=\"./components/eval-component/eval.yml\")\n",
        "tree_eval_component = load_component(source=\"./components/eval-component/eval.yml\")\n",
        "\n",
        "\n"
      ]
    },
    {
      "cell_type": "code",
      "execution_count": 39,
      "id": "72d02a7e-9428-4b1c-82a7-fe86ce67a0f5",
      "metadata": {
        "gather": {
          "logged": 1699331795662
        }
      },
      "outputs": [],
      "source": [
        "# define a pipeline containing 3 nodes: Prepare data node, train node, and score node\n",
        "@pipeline(\n",
        "    default_compute='cpu-cluster',\n",
        ")\n",
        "\n",
        "def water_potability_decision_tree_dummy(pipeline_input_data):\n",
        "    \n",
        "    clean_node = clean_component(training_data=pipeline_input_data)\n",
        "\n",
        "    split_node = split_component(clean_data=clean_node.outputs.model_output)\n",
        "\n",
        "\n",
        "    logistic_regression = logistic_regression_component(training_data=split_node.outputs.training_data)\n",
        "    \n",
        "    tree_regression = tree_regression_component(training_data=split_node.outputs.training_data)\n",
        "    #train_node.compute = gpu_compute_target\n",
        "    \n",
        "    tree_score_node = logistic_score_component(\n",
        "        test_data=split_node.outputs.testing_data,\n",
        "        model_input=tree_regression.outputs.model_output\n",
        "    )\n",
        "\n",
        "    score_node = logistic_score_component(\n",
        "        test_data=split_node.outputs.testing_data,\n",
        "        model_input=logistic_regression.outputs.model_output\n",
        "    )\n",
        "\n",
        "    eval_node = logistic_eval_component(\n",
        "        scoring_result=score_node.outputs.score_output,\n",
        "        test_data = split_node.outputs.testing_data\n",
        "    )\n",
        "    \n",
        "    tree_eval_node = logistic_eval_component(\n",
        "        scoring_result=tree_score_node.outputs.score_output,\n",
        "        test_data = split_node.outputs.testing_data\n",
        "    )\n",
        "\n",
        "    return {\n",
        "        \"pipeline_eval_output\": eval_node.outputs.eval_output,\n",
        "        \"tree_pipeline_eval_output\": tree_eval_node.outputs.eval_output\n",
        "    }\n"
      ]
    },
    {
      "cell_type": "code",
      "execution_count": 40,
      "id": "0f5e8ec4-9df3-4a42-9420-99f4ab79ab70",
      "metadata": {
        "gather": {
          "logged": 1699331801874
        },
        "jupyter": {
          "outputs_hidden": false,
          "source_hidden": false
        },
        "nteract": {
          "transient": {
            "deleting": false
          }
        }
      },
      "outputs": [],
      "source": [
        "\n",
        "\n",
        "# create a pipeline\n",
        "water_potability_ds =  Input(type=\"uri_file\", path=data_store_uri_file)\n",
        "\n",
        "pipeline_job = water_potability_decision_tree_dummy(pipeline_input_data=water_potability_ds)\n"
      ]
    },
    {
      "cell_type": "code",
      "execution_count": 41,
      "id": "2f0960eb-8e26-430b-a9f1-d491620b90b6",
      "metadata": {
        "gather": {
          "logged": 1699331815122
        }
      },
      "outputs": [
        {
          "name": "stderr",
          "output_type": "stream",
          "text": [
            "\u001b[32mUploading decission_trees_src (0.0 MBs): 100%|██████████| 1949/1949 [00:00<00:00, 44953.72it/s]\n",
            "\u001b[39m\n",
            "\n",
            "\u001b[32mUploading eval_src (0.0 MBs): 100%|██████████| 1644/1644 [00:00<00:00, 20882.10it/s]\n",
            "\u001b[39m\n",
            "\n"
          ]
        },
        {
          "data": {
            "text/html": [
              "<table style=\"width:100%\"><tr><th>Experiment</th><th>Name</th><th>Type</th><th>Status</th><th>Details Page</th></tr><tr><td>pipeline_water_potability_dummy</td><td>helpful_sand_8q9jvm4ws4</td><td>pipeline</td><td>Preparing</td><td><a href=\"https://ml.azure.com/runs/helpful_sand_8q9jvm4ws4?wsid=/subscriptions/46169265-43c5-42f4-b171-b27bdd8e5afa/resourcegroups/rchoque/workspaces/rc-ml-test&amp;tid=65134df3-8913-4d88-99bd-5e270aaabf58\" target=\"_blank\" rel=\"noopener\">Link to Azure Machine Learning studio</a></td></tr></table>"
            ],
            "text/plain": [
              "PipelineJob({'inputs': {'pipeline_input_data': <azure.ai.ml.entities._job.pipeline._io.base.PipelineInput object at 0x7f30ecd26cd0>}, 'outputs': {'pipeline_eval_output': <azure.ai.ml.entities._job.pipeline._io.base.PipelineOutput object at 0x7f30ecd26d00>, 'tree_pipeline_eval_output': <azure.ai.ml.entities._job.pipeline._io.base.PipelineOutput object at 0x7f30ecd26d30>}, 'jobs': {}, 'component': PipelineComponent({'intellectual_property': None, 'auto_increment_version': False, 'source': 'REMOTE.WORKSPACE.JOB', 'is_anonymous': True, 'auto_delete_setting': None, 'name': 'azureml_anonymous', 'description': None, 'tags': {}, 'properties': {}, 'print_as_yaml': True, 'id': None, 'Resource__source_path': None, 'base_path': '/mnt/batch/tasks/shared/LS_root/mounts/clusters/test-rc/code/Users/ron.todo.poderoso/project/Diplomado_ML_2023-Proyecto_2-Ronald-Mayra', 'creation_context': None, 'serialize': <msrest.serialization.Serializer object at 0x7f30ecd26ac0>, 'version': '1', 'latest_version': None, 'schema': None, 'type': 'pipeline', 'display_name': 'water_potability_decision_tree_dummy', 'is_deterministic': None, 'inputs': {'pipeline_input_data': {}}, 'outputs': {'pipeline_eval_output': {}, 'tree_pipeline_eval_output': {}}, 'yaml_str': None, 'other_parameter': {}, 'jobs': {'clean_node': Command({'parameters': {}, 'init': False, 'name': 'clean_node', 'type': 'command', 'status': None, 'log_files': None, 'description': None, 'tags': {}, 'properties': {}, 'print_as_yaml': True, 'id': None, 'Resource__source_path': None, 'base_path': '/mnt/batch/tasks/shared/LS_root/mounts/clusters/test-rc/code/Users/ron.todo.poderoso/project/Diplomado_ML_2023-Proyecto_2-Ronald-Mayra', 'creation_context': None, 'serialize': <msrest.serialization.Serializer object at 0x7f30ecd26340>, 'allowed_keys': {}, 'key_restriction': False, 'logger': <Logger attr_dict (WARNING)>, 'display_name': None, 'experiment_name': None, 'compute': None, 'services': None, 'comment': None, 'job_inputs': {'training_data': '${{parent.inputs.pipeline_input_data}}'}, 'job_outputs': {}, 'inputs': {'training_data': <azure.ai.ml.entities._job.pipeline._io.base.NodeInput object at 0x7f30ecd26310>}, 'outputs': {}, 'component': 'azureml_anonymous:ba6b8a5a-1143-4c24-b5bb-03b29262f333', 'referenced_control_flow_node_instance_id': None, 'kwargs': {'services': None}, 'instance_id': '93053321-39e2-4950-8417-58dc1ddf1d88', 'source': 'REMOTE.WORKSPACE.COMPONENT', 'validate_required_input_not_provided': True, 'limits': None, 'identity': None, 'distribution': None, 'environment_variables': {}, 'environment': None, 'resources': None, 'queue_settings': None, 'swept': False}), 'split_node': Command({'parameters': {}, 'init': False, 'name': 'split_node', 'type': 'command', 'status': None, 'log_files': None, 'description': None, 'tags': {}, 'properties': {}, 'print_as_yaml': True, 'id': None, 'Resource__source_path': None, 'base_path': '/mnt/batch/tasks/shared/LS_root/mounts/clusters/test-rc/code/Users/ron.todo.poderoso/project/Diplomado_ML_2023-Proyecto_2-Ronald-Mayra', 'creation_context': None, 'serialize': <msrest.serialization.Serializer object at 0x7f30ecd26430>, 'allowed_keys': {}, 'key_restriction': False, 'logger': <Logger attr_dict (WARNING)>, 'display_name': None, 'experiment_name': None, 'compute': None, 'services': None, 'comment': None, 'job_inputs': {'clean_data': '${{parent.jobs.clean_node.outputs.model_output}}'}, 'job_outputs': {}, 'inputs': {'clean_data': <azure.ai.ml.entities._job.pipeline._io.base.NodeInput object at 0x7f30ecd26460>}, 'outputs': {}, 'component': 'azureml_anonymous:a22fb666-95d8-4d71-a948-8202cd99de40', 'referenced_control_flow_node_instance_id': None, 'kwargs': {'services': None}, 'instance_id': '8523bdb3-650c-4cc3-a663-3f510b109fcf', 'source': 'REMOTE.WORKSPACE.COMPONENT', 'validate_required_input_not_provided': True, 'limits': None, 'identity': None, 'distribution': None, 'environment_variables': {}, 'environment': None, 'resources': None, 'queue_settings': None, 'swept': False}), 'logistic_regression': Command({'parameters': {}, 'init': False, 'name': 'logistic_regression', 'type': 'command', 'status': None, 'log_files': None, 'description': None, 'tags': {}, 'properties': {}, 'print_as_yaml': True, 'id': None, 'Resource__source_path': None, 'base_path': '/mnt/batch/tasks/shared/LS_root/mounts/clusters/test-rc/code/Users/ron.todo.poderoso/project/Diplomado_ML_2023-Proyecto_2-Ronald-Mayra', 'creation_context': None, 'serialize': <msrest.serialization.Serializer object at 0x7f30ecd26400>, 'allowed_keys': {}, 'key_restriction': False, 'logger': <Logger attr_dict (WARNING)>, 'display_name': None, 'experiment_name': None, 'compute': None, 'services': None, 'comment': None, 'job_inputs': {'training_data': '${{parent.jobs.split_node.outputs.training_data}}'}, 'job_outputs': {}, 'inputs': {'training_data': <azure.ai.ml.entities._job.pipeline._io.base.NodeInput object at 0x7f30ecd26550>}, 'outputs': {}, 'component': 'azureml_anonymous:a6eef039-7dee-4179-9b47-31bc1f96d274', 'referenced_control_flow_node_instance_id': None, 'kwargs': {'services': None}, 'instance_id': '015727a5-9775-4105-9403-fd4961428a99', 'source': 'REMOTE.WORKSPACE.COMPONENT', 'validate_required_input_not_provided': True, 'limits': None, 'identity': None, 'distribution': None, 'environment_variables': {}, 'environment': None, 'resources': None, 'queue_settings': None, 'swept': False}), 'tree_regression': Command({'parameters': {}, 'init': False, 'name': 'tree_regression', 'type': 'command', 'status': None, 'log_files': None, 'description': None, 'tags': {}, 'properties': {}, 'print_as_yaml': True, 'id': None, 'Resource__source_path': None, 'base_path': '/mnt/batch/tasks/shared/LS_root/mounts/clusters/test-rc/code/Users/ron.todo.poderoso/project/Diplomado_ML_2023-Proyecto_2-Ronald-Mayra', 'creation_context': None, 'serialize': <msrest.serialization.Serializer object at 0x7f30ecd263d0>, 'allowed_keys': {}, 'key_restriction': False, 'logger': <Logger attr_dict (WARNING)>, 'display_name': None, 'experiment_name': None, 'compute': None, 'services': None, 'comment': None, 'job_inputs': {'training_data': '${{parent.jobs.split_node.outputs.training_data}}'}, 'job_outputs': {}, 'inputs': {'training_data': <azure.ai.ml.entities._job.pipeline._io.base.NodeInput object at 0x7f30ecd266a0>}, 'outputs': {}, 'component': 'azureml_anonymous:4bb7927e-627a-4aed-bad8-59c12d87163e', 'referenced_control_flow_node_instance_id': None, 'kwargs': {'services': None}, 'instance_id': 'f348bb09-1675-4b18-ace6-533adb3898c1', 'source': 'REMOTE.WORKSPACE.COMPONENT', 'validate_required_input_not_provided': True, 'limits': None, 'identity': None, 'distribution': None, 'environment_variables': {}, 'environment': None, 'resources': None, 'queue_settings': None, 'swept': False}), 'tree_score_node': Command({'parameters': {}, 'init': False, 'name': 'tree_score_node', 'type': 'command', 'status': None, 'log_files': None, 'description': None, 'tags': {}, 'properties': {}, 'print_as_yaml': True, 'id': None, 'Resource__source_path': None, 'base_path': '/mnt/batch/tasks/shared/LS_root/mounts/clusters/test-rc/code/Users/ron.todo.poderoso/project/Diplomado_ML_2023-Proyecto_2-Ronald-Mayra', 'creation_context': None, 'serialize': <msrest.serialization.Serializer object at 0x7f30ecd26610>, 'allowed_keys': {}, 'key_restriction': False, 'logger': <Logger attr_dict (WARNING)>, 'display_name': None, 'experiment_name': None, 'compute': None, 'services': None, 'comment': None, 'job_inputs': {'model_input': '${{parent.jobs.tree_regression.outputs.model_output}}', 'test_data': '${{parent.jobs.split_node.outputs.testing_data}}'}, 'job_outputs': {}, 'inputs': {'model_input': <azure.ai.ml.entities._job.pipeline._io.base.NodeInput object at 0x7f30ecd26670>, 'test_data': <azure.ai.ml.entities._job.pipeline._io.base.NodeInput object at 0x7f30ecd26220>}, 'outputs': {}, 'component': 'azureml_anonymous:b9d9dad0-3e93-4ac3-a5aa-b2350b85ae7f', 'referenced_control_flow_node_instance_id': None, 'kwargs': {'services': None}, 'instance_id': '85cb64ed-ec19-4a39-97d1-f10e953350f7', 'source': 'REMOTE.WORKSPACE.COMPONENT', 'validate_required_input_not_provided': True, 'limits': None, 'identity': None, 'distribution': None, 'environment_variables': {}, 'environment': None, 'resources': None, 'queue_settings': None, 'swept': False}), 'score_node': Command({'parameters': {}, 'init': False, 'name': 'score_node', 'type': 'command', 'status': None, 'log_files': None, 'description': None, 'tags': {}, 'properties': {}, 'print_as_yaml': True, 'id': None, 'Resource__source_path': None, 'base_path': '/mnt/batch/tasks/shared/LS_root/mounts/clusters/test-rc/code/Users/ron.todo.poderoso/project/Diplomado_ML_2023-Proyecto_2-Ronald-Mayra', 'creation_context': None, 'serialize': <msrest.serialization.Serializer object at 0x7f30ecd26370>, 'allowed_keys': {}, 'key_restriction': False, 'logger': <Logger attr_dict (WARNING)>, 'display_name': None, 'experiment_name': None, 'compute': None, 'services': None, 'comment': None, 'job_inputs': {'model_input': '${{parent.jobs.logistic_regression.outputs.model_output}}', 'test_data': '${{parent.jobs.split_node.outputs.testing_data}}'}, 'job_outputs': {}, 'inputs': {'model_input': <azure.ai.ml.entities._job.pipeline._io.base.NodeInput object at 0x7f30ecd26790>, 'test_data': <azure.ai.ml.entities._job.pipeline._io.base.NodeInput object at 0x7f30ecd261c0>}, 'outputs': {}, 'component': 'azureml_anonymous:b9d9dad0-3e93-4ac3-a5aa-b2350b85ae7f', 'referenced_control_flow_node_instance_id': None, 'kwargs': {'services': None}, 'instance_id': '89b654f0-ec18-4044-b018-ddbbe1461411', 'source': 'REMOTE.WORKSPACE.COMPONENT', 'validate_required_input_not_provided': True, 'limits': None, 'identity': None, 'distribution': None, 'environment_variables': {}, 'environment': None, 'resources': None, 'queue_settings': None, 'swept': False}), 'eval_node': Command({'parameters': {}, 'init': False, 'name': 'eval_node', 'type': 'command', 'status': None, 'log_files': None, 'description': None, 'tags': {}, 'properties': {}, 'print_as_yaml': True, 'id': None, 'Resource__source_path': None, 'base_path': '/mnt/batch/tasks/shared/LS_root/mounts/clusters/test-rc/code/Users/ron.todo.poderoso/project/Diplomado_ML_2023-Proyecto_2-Ronald-Mayra', 'creation_context': None, 'serialize': <msrest.serialization.Serializer object at 0x7f30ecd265b0>, 'allowed_keys': {}, 'key_restriction': False, 'logger': <Logger attr_dict (WARNING)>, 'display_name': None, 'experiment_name': None, 'compute': None, 'services': None, 'comment': None, 'job_inputs': {'scoring_result': '${{parent.jobs.score_node.outputs.score_output}}', 'test_data': '${{parent.jobs.split_node.outputs.testing_data}}'}, 'job_outputs': {'eval_output': '${{parent.outputs.pipeline_eval_output}}'}, 'inputs': {'scoring_result': <azure.ai.ml.entities._job.pipeline._io.base.NodeInput object at 0x7f30ecd26760>, 'test_data': <azure.ai.ml.entities._job.pipeline._io.base.NodeInput object at 0x7f30ecd26850>}, 'outputs': {'eval_output': <azure.ai.ml.entities._job.pipeline._io.base.NodeOutput object at 0x7f30ecd265e0>}, 'component': 'azureml_anonymous:421f8cad-0a64-46a4-94a7-f1d386b6c103', 'referenced_control_flow_node_instance_id': None, 'kwargs': {'services': None}, 'instance_id': '189c376c-c522-483b-9435-baa0e78187aa', 'source': 'REMOTE.WORKSPACE.COMPONENT', 'validate_required_input_not_provided': True, 'limits': None, 'identity': None, 'distribution': None, 'environment_variables': {}, 'environment': None, 'resources': None, 'queue_settings': None, 'swept': False}), 'tree_eval_node': Command({'parameters': {}, 'init': False, 'name': 'tree_eval_node', 'type': 'command', 'status': None, 'log_files': None, 'description': None, 'tags': {}, 'properties': {}, 'print_as_yaml': True, 'id': None, 'Resource__source_path': None, 'base_path': '/mnt/batch/tasks/shared/LS_root/mounts/clusters/test-rc/code/Users/ron.todo.poderoso/project/Diplomado_ML_2023-Proyecto_2-Ronald-Mayra', 'creation_context': None, 'serialize': <msrest.serialization.Serializer object at 0x7f30ecd26a00>, 'allowed_keys': {}, 'key_restriction': False, 'logger': <Logger attr_dict (WARNING)>, 'display_name': None, 'experiment_name': None, 'compute': None, 'services': None, 'comment': None, 'job_inputs': {'scoring_result': '${{parent.jobs.tree_score_node.outputs.score_output}}', 'test_data': '${{parent.jobs.split_node.outputs.testing_data}}'}, 'job_outputs': {'eval_output': '${{parent.outputs.tree_pipeline_eval_output}}'}, 'inputs': {'scoring_result': <azure.ai.ml.entities._job.pipeline._io.base.NodeInput object at 0x7f30ecd26a30>, 'test_data': <azure.ai.ml.entities._job.pipeline._io.base.NodeInput object at 0x7f30ecd26a60>}, 'outputs': {'eval_output': <azure.ai.ml.entities._job.pipeline._io.base.NodeOutput object at 0x7f30ecd269a0>}, 'component': 'azureml_anonymous:421f8cad-0a64-46a4-94a7-f1d386b6c103', 'referenced_control_flow_node_instance_id': None, 'kwargs': {'services': None}, 'instance_id': 'bab85c31-3d87-4669-8745-93515a04156d', 'source': 'REMOTE.WORKSPACE.COMPONENT', 'validate_required_input_not_provided': True, 'limits': None, 'identity': None, 'distribution': None, 'environment_variables': {}, 'environment': None, 'resources': None, 'queue_settings': None, 'swept': False})}, 'job_types': {'command': 8}, 'job_sources': {'REMOTE.WORKSPACE.COMPONENT': 8}, 'source_job_id': None}), 'type': 'pipeline', 'status': 'Preparing', 'log_files': None, 'name': 'helpful_sand_8q9jvm4ws4', 'description': None, 'tags': {}, 'properties': {'azureml.DevPlatv2': 'true', 'azureml.DatasetAccessMode': 'Asset', 'azureml.runsource': 'azureml.PipelineRun', 'runSource': 'MFE', 'runType': 'HTTP', 'azureml.parameters': '{}', 'azureml.continue_on_step_failure': 'True', 'azureml.continue_on_failed_optional_input': 'True', 'azureml.enforceRerun': 'False', 'azureml.defaultComputeName': 'cpu-cluster', 'azureml.defaultDataStoreName': 'workspaceblobstore', 'azureml.pipelineComponent': 'pipelinerun'}, 'print_as_yaml': True, 'id': '/subscriptions/46169265-43c5-42f4-b171-b27bdd8e5afa/resourceGroups/rchoque/providers/Microsoft.MachineLearningServices/workspaces/rc-ml-test/jobs/helpful_sand_8q9jvm4ws4', 'Resource__source_path': None, 'base_path': '/mnt/batch/tasks/shared/LS_root/mounts/clusters/test-rc/code/Users/ron.todo.poderoso/project/Diplomado_ML_2023-Proyecto_2-Ronald-Mayra', 'creation_context': <azure.ai.ml.entities._system_data.SystemData object at 0x7f30ecd26be0>, 'serialize': <msrest.serialization.Serializer object at 0x7f30ecd26d90>, 'display_name': 'water_potability_decision_tree_dummy', 'experiment_name': 'pipeline_water_potability_dummy', 'compute': None, 'services': {'Tracking': {'endpoint': 'azureml://westus.api.azureml.ms/mlflow/v1.0/subscriptions/46169265-43c5-42f4-b171-b27bdd8e5afa/resourceGroups/rchoque/providers/Microsoft.MachineLearningServices/workspaces/rc-ml-test?', 'type': 'Tracking'}, 'Studio': {'endpoint': 'https://ml.azure.com/runs/helpful_sand_8q9jvm4ws4?wsid=/subscriptions/46169265-43c5-42f4-b171-b27bdd8e5afa/resourcegroups/rchoque/workspaces/rc-ml-test&tid=65134df3-8913-4d88-99bd-5e270aaabf58', 'type': 'Studio'}}, 'settings': {}, 'identity': None, 'default_code': None, 'default_environment': None})"
            ]
          },
          "execution_count": 41,
          "metadata": {},
          "output_type": "execute_result"
        }
      ],
      "source": [
        "pipeline_job = ml_client.jobs.create_or_update(\n",
        "    pipeline_job, experiment_name=\"pipeline_water_potability_dummy\"\n",
        ")\n",
        "pipeline_job"
      ]
    },
    {
      "cell_type": "code",
      "execution_count": 42,
      "id": "c861cb3c-efb3-44be-a781-952efbe7a760",
      "metadata": {
        "gather": {
          "logged": 1699332360201
        }
      },
      "outputs": [
        {
          "name": "stdout",
          "output_type": "stream",
          "text": [
            "RunId: helpful_sand_8q9jvm4ws4\n",
            "Web View: https://ml.azure.com/runs/helpful_sand_8q9jvm4ws4?wsid=/subscriptions/46169265-43c5-42f4-b171-b27bdd8e5afa/resourcegroups/rchoque/workspaces/rc-ml-test\n",
            "\n",
            "Execution Summary\n",
            "=================\n",
            "RunId: helpful_sand_8q9jvm4ws4\n",
            "Web View: https://ml.azure.com/runs/helpful_sand_8q9jvm4ws4?wsid=/subscriptions/46169265-43c5-42f4-b171-b27bdd8e5afa/resourcegroups/rchoque/workspaces/rc-ml-test\n",
            "\n"
          ]
        }
      ],
      "source": [
        "# wait until the job completes\n",
        "ml_client.jobs.stream(pipeline_job.name)\n"
      ]
    },
    {
      "cell_type": "code",
      "execution_count": 43,
      "id": "bb9474d1-ffff-48ca-8913-50e96ce0fef8",
      "metadata": {
        "gather": {
          "logged": 1699332366626
        }
      },
      "outputs": [
        {
          "name": "stderr",
          "output_type": "stream",
          "text": [
            "Downloading artifact azureml://subscriptions/46169265-43c5-42f4-b171-b27bdd8e5afa/resourcegroups/rchoque/workspaces/rc-ml-test/datastores/workspaceblobstore/paths/azureml/855d6893-2fa0-471c-b98c-2391376367fa/eval_output/ to pipeline_output/named-outputs/pipeline_eval_output\n",
            "Downloading artifact azureml://subscriptions/46169265-43c5-42f4-b171-b27bdd8e5afa/resourcegroups/rchoque/workspaces/rc-ml-test/datastores/workspaceblobstore/paths/azureml/1b771380-7aef-457d-bccc-3caa21f4ab49/eval_output/ to pipeline_output/named-outputs/tree_pipeline_eval_output\n",
            "Downloading artifact azureml://datastores/workspaceartifactstore/paths/ExperimentRun/dcid.helpful_sand_8q9jvm4ws4/ to pipeline_output/artifacts\n",
            "Ran into a deserialization error. Ignoring since this is failsafe deserialization\n",
            "Traceback (most recent call last):\n",
            "  File \"/anaconda/envs/azureml_py38/lib/python3.8/site-packages/msrest/serialization.py\", line 1509, in failsafe_deserialize\n",
            "    return self(target_obj, data, content_type=content_type)\n",
            "  File \"/anaconda/envs/azureml_py38/lib/python3.8/site-packages/msrest/serialization.py\", line 1375, in __call__\n",
            "    data = self._unpack_content(response_data, content_type)\n",
            "  File \"/anaconda/envs/azureml_py38/lib/python3.8/site-packages/msrest/serialization.py\", line 1543, in _unpack_content\n",
            "    raise ValueError(\"This pipeline didn't have the RawDeserializer policy; can't deserialize\")\n",
            "ValueError: This pipeline didn't have the RawDeserializer policy; can't deserialize\n",
            "Ran into a deserialization error. Ignoring since this is failsafe deserialization\n",
            "Traceback (most recent call last):\n",
            "  File \"/anaconda/envs/azureml_py38/lib/python3.8/site-packages/msrest/serialization.py\", line 1509, in failsafe_deserialize\n",
            "    return self(target_obj, data, content_type=content_type)\n",
            "  File \"/anaconda/envs/azureml_py38/lib/python3.8/site-packages/msrest/serialization.py\", line 1375, in __call__\n",
            "    data = self._unpack_content(response_data, content_type)\n",
            "  File \"/anaconda/envs/azureml_py38/lib/python3.8/site-packages/msrest/serialization.py\", line 1543, in _unpack_content\n",
            "    raise ValueError(\"This pipeline didn't have the RawDeserializer policy; can't deserialize\")\n",
            "ValueError: This pipeline didn't have the RawDeserializer policy; can't deserialize\n"
          ]
        }
      ],
      "source": [
        "# Download all the outputs of the job\n",
        "output = ml_client.jobs.download(name=pipeline_job.name, download_path='./pipeline_output', all=True)"
      ]
    },
    {
      "cell_type": "code",
      "execution_count": null,
      "id": "0700ea8a-9599-4baf-aaea-3c28b3d8c469",
      "metadata": {},
      "outputs": [],
      "source": []
    }
  ],
  "metadata": {
    "kernel_info": {
      "name": "python38-azureml"
    },
    "kernelspec": {
      "display_name": "Python 3.8 - AzureML",
      "language": "python",
      "name": "python38-azureml"
    },
    "language_info": {
      "codemirror_mode": {
        "name": "ipython",
        "version": 3
      },
      "file_extension": ".py",
      "mimetype": "text/x-python",
      "name": "python",
      "nbconvert_exporter": "python",
      "pygments_lexer": "ipython3",
      "version": "3.8.5"
    },
    "microsoft": {
      "host": {
        "AzureML": {
          "notebookHasBeenCompleted": true
        }
      },
      "ms_spell_check": {
        "ms_spell_check_language": "en"
      }
    },
    "nteract": {
      "version": "nteract-front-end@1.0.0"
    }
  },
  "nbformat": 4,
  "nbformat_minor": 5
}
