{
  "cells": [
    {
      "cell_type": "code",
      "execution_count": 1,
      "id": "77f23d0c-98d1-415d-a8ad-958508257b37",
      "metadata": {
        "gather": {
          "logged": 1699241220283
        }
      },
      "outputs": [],
      "source": [
        "from azure.ai.ml import load_component\n",
        "from azure.ai.ml.dsl import pipeline\n",
        "from azure.ai.ml import MLClient, Input\n",
        "from azure.identity import DefaultAzureCredential, EnvironmentCredential\n",
        "from azure.ai.ml.entities import AmlCompute\n",
        "from dotenv import load_dotenv\n",
        "import os\n",
        "import pandas as pd"
      ]
    },
    {
      "cell_type": "code",
      "execution_count": 2,
      "id": "66bc4830-ea29-4f99-9646-a64e7dd64956",
      "metadata": {
        "gather": {
          "logged": 1699241225833
        }
      },
      "outputs": [],
      "source": [
        "def get_comput_target(ml_client, name=\"cpu-cluster\", family='Standard_DS2_v2'):\n",
        "    cpu_compute_target = name\n",
        "    \n",
        "    try:\n",
        "        # let's see if the compute target already exists\n",
        "        cpu_cluster = ml_client.compute.get(cpu_compute_target)\n",
        "    except Exception:\n",
        "        cpu_cluster = AmlCompute(\n",
        "            name=cpu_compute_target,\n",
        "            type=\"amlcompute\",\n",
        "            size=family,\n",
        "            min_instances=0,\n",
        "            max_instances=4,\n",
        "            idle_time_before_scale_down=180,\n",
        "            tier=\"Dedicated\",\n",
        "        )\n",
        "    \n",
        "        cpu_cluster = ml_client.compute.begin_create_or_update(cpu_cluster).result()"
      ]
    },
    {
      "cell_type": "code",
      "execution_count": 3,
      "id": "12ba65d9-9bbd-49ce-9518-711713a4f426",
      "metadata": {
        "gather": {
          "logged": 1699241230167
        },
        "jupyter": {
          "outputs_hidden": false,
          "source_hidden": false
        },
        "nteract": {
          "transient": {
            "deleting": false
          }
        }
      },
      "outputs": [
        {
          "name": "stderr",
          "output_type": "stream",
          "text": [
            "Found the config file in: /config.json\n"
          ]
        }
      ],
      "source": [
        "def get_azure_credential(subscription_id, resource_group, workspace):\n",
        "    credential = DefaultAzureCredential()\n",
        "    ml_client = MLClient.from_config(credential)\n",
        "    ml_client =  MLClient(credential, subscription_id, resource_group, workspace)\n",
        "    return ml_client\n",
        "\n",
        "ml_client = get_azure_credential(\"<subcription>\", \"<resource_group>\", \"rc_ml_test\")"
      ]
    },
    {
      "cell_type": "code",
      "execution_count": 4,
      "id": "652fff8c-f2b9-4741-995e-e3bdae0bed71",
      "metadata": {
        "gather": {
          "logged": 1699241234298
        }
      },
      "outputs": [],
      "source": [
        "compute_target = get_comput_target(ml_client, name=\"cpu-cluster\")"
      ]
    },
    {
      "cell_type": "code",
      "execution_count": 14,
      "id": "fd4e05e1-fa4d-492f-9880-5c36e83c9806",
      "metadata": {
        "gather": {
          "logged": 1699244489145
        }
      },
      "outputs": [],
      "source": [
        "clean_component = load_component(source=\"./components/clean-component/clean.yml\")\n",
        "split_component = load_component(source=\"./components/split-component/split.yml\")\n",
        "\n",
        "#TODO\n",
        "train_component = load_component(source=\"./components/train-component/train.yml\")\n",
        "score_component = load_component(source=\"./components/score-component/score.yml\")\n",
        "eval_component = load_component(source=\"./components/eval-component/eval.yml\")\n",
        "\n",
        "\n",
        "\n"
      ]
    },
    {
      "cell_type": "code",
      "execution_count": 17,
      "id": "72d02a7e-9428-4b1c-82a7-fe86ce67a0f5",
      "metadata": {
        "gather": {
          "logged": 1699244594900
        }
      },
      "outputs": [],
      "source": [
        "# define a pipeline containing 3 nodes: Prepare data node, train node, and score node\n",
        "@pipeline(\n",
        "    default_compute='cpu-cluster',\n",
        ")\n",
        "\n",
        "def water_potability_decision_tree_dummy(pipeline_input_data):\n",
        "    \n",
        "    clean_node = clean_component(training_data=pipeline_input_data)\n",
        "\n",
        "    split_node = split_component(clean_data=clean_node.outputs.model_output)\n",
        "\n",
        "    # TODO create new conenections\n",
        "    train_node = train_component(\n",
        "        training_data=split_node.outputs.training_data,\n",
        "        max_epocs=50,\n",
        "        learning_rate=0.01,\n",
        "        learning_rate_schedule='step'\n",
        "    )\n",
        "    \n",
        "    #train_node.compute = gpu_compute_target\n",
        "\n",
        "    score_node = score_component(\n",
        "        test_data=pipeline_input_data,\n",
        "        model_input=train_node.outputs.model_output\n",
        "    )\n",
        "\n",
        "    eval_node = eval_component(\n",
        "        scoring_result=score_node.outputs.score_output\n",
        "    )\n",
        "\n",
        "    return {\n",
        "        \"pipeline_eval_output\": eval_node.outputs.eval_output\n",
        "    }\n"
      ]
    },
    {
      "cell_type": "code",
      "execution_count": 18,
      "id": "0f5e8ec4-9df3-4a42-9420-99f4ab79ab70",
      "metadata": {
        "gather": {
          "logged": 1699244600010
        },
        "jupyter": {
          "outputs_hidden": false,
          "source_hidden": false
        },
        "nteract": {
          "transient": {
            "deleting": false
          }
        }
      },
      "outputs": [],
      "source": [
        "\n",
        "\n",
        "data_store_uri_file = \"azureml://subscriptions/46169265-43c5-42f4-b171-b27bdd8e5afa/resourcegroups/rchoque/workspaces/rc_ml_test/datastores/workspaceblobstore/paths/UI/2023-11-04_184502_UTC/water_potability.csv\"\n",
        "# create a pipeline\n",
        "water_potability_ds =  Input(type=\"uri_file\", path=data_store_uri_file)\n",
        "\n",
        "pipeline_job = water_potability_decision_tree_dummy(pipeline_input_data=water_potability_ds)\n"
      ]
    },
    {
      "cell_type": "code",
      "execution_count": 12,
      "id": "2f0960eb-8e26-430b-a9f1-d491620b90b6",
      "metadata": {
        "gather": {
          "logged": 1699241350513
        }
      },
      "outputs": [
        {
          "name": "stderr",
          "output_type": "stream",
          "text": [
            "Class AutoDeleteSettingSchema: This is an experimental class, and may change at any time. Please see https://aka.ms/azuremlexperimental for more information.\n",
            "Class AutoDeleteConditionSchema: This is an experimental class, and may change at any time. Please see https://aka.ms/azuremlexperimental for more information.\n",
            "Class BaseAutoDeleteSettingSchema: This is an experimental class, and may change at any time. Please see https://aka.ms/azuremlexperimental for more information.\n",
            "Class IntellectualPropertySchema: This is an experimental class, and may change at any time. Please see https://aka.ms/azuremlexperimental for more information.\n",
            "Class ProtectionLevelSchema: This is an experimental class, and may change at any time. Please see https://aka.ms/azuremlexperimental for more information.\n",
            "Class BaseIntellectualPropertySchema: This is an experimental class, and may change at any time. Please see https://aka.ms/azuremlexperimental for more information.\n",
            "\u001b[32mUploading clean_src (0.0 MBs): 100%|██████████| 1056/1056 [00:00<00:00, 31100.77it/s]\n",
            "\u001b[39m\n",
            "\n",
            "\u001b[32mUploading score_src (0.0 MBs): 100%|██████████| 1207/1207 [00:00<00:00, 33900.23it/s]\n",
            "\u001b[39m\n",
            "\n"
          ]
        },
        {
          "data": {
            "text/html": [
              "<table style=\"width:100%\"><tr><th>Experiment</th><th>Name</th><th>Type</th><th>Status</th><th>Details Page</th></tr><tr><td>pipeline_water_potability_dummy</td><td>tough_celery_28k5vzj8sd</td><td>pipeline</td><td>Preparing</td><td><a href=\"https://ml.azure.com/runs/tough_celery_28k5vzj8sd?wsid=/subscriptions/46169265-43c5-42f4-b171-b27bdd8e5afa/resourcegroups/rchoque/workspaces/rc_ml_test&amp;tid=65134df3-8913-4d88-99bd-5e270aaabf58\" target=\"_blank\" rel=\"noopener\">Link to Azure Machine Learning studio</a></td></tr></table>"
            ],
            "text/plain": [
              "PipelineJob({'inputs': {'pipeline_input_data': <azure.ai.ml.entities._job.pipeline._io.base.PipelineInput object at 0x7fb0d01894c0>}, 'outputs': {'pipeline_eval_output': <azure.ai.ml.entities._job.pipeline._io.base.PipelineOutput object at 0x7fb0d0189250>}, 'jobs': {}, 'component': PipelineComponent({'intellectual_property': None, 'auto_increment_version': False, 'source': 'REMOTE.WORKSPACE.JOB', 'is_anonymous': True, 'auto_delete_setting': None, 'name': 'azureml_anonymous', 'description': None, 'tags': {}, 'properties': {}, 'print_as_yaml': True, 'id': None, 'Resource__source_path': None, 'base_path': '/mnt/batch/tasks/shared/LS_root/mounts/clusters/rc-cp-test/code/Users/ron.todo.poderoso/sample', 'creation_context': None, 'serialize': <msrest.serialization.Serializer object at 0x7fb0d0189280>, 'version': '1', 'latest_version': None, 'schema': None, 'type': 'pipeline', 'display_name': 'water_potability_decision_tree_dummy', 'is_deterministic': None, 'inputs': {'pipeline_input_data': {}}, 'outputs': {'pipeline_eval_output': {}}, 'yaml_str': None, 'other_parameter': {}, 'jobs': {'clean_node': Command({'parameters': {}, 'init': False, 'name': 'clean_node', 'type': 'command', 'status': None, 'log_files': None, 'description': None, 'tags': {}, 'properties': {}, 'print_as_yaml': True, 'id': None, 'Resource__source_path': None, 'base_path': '/mnt/batch/tasks/shared/LS_root/mounts/clusters/rc-cp-test/code/Users/ron.todo.poderoso/sample', 'creation_context': None, 'serialize': <msrest.serialization.Serializer object at 0x7fb0d0189b50>, 'allowed_keys': {}, 'key_restriction': False, 'logger': <Logger attr_dict (WARNING)>, 'display_name': None, 'experiment_name': None, 'compute': None, 'services': None, 'comment': None, 'job_inputs': {'training_data': '${{parent.inputs.pipeline_input_data}}'}, 'job_outputs': {}, 'inputs': {'training_data': <azure.ai.ml.entities._job.pipeline._io.base.NodeInput object at 0x7fb0d01891c0>}, 'outputs': {}, 'component': 'azureml_anonymous:90c2f1b2-b163-4859-869f-c2ea9d5017d1', 'referenced_control_flow_node_instance_id': None, 'kwargs': {'services': None}, 'instance_id': 'a80838a3-cec6-4dbb-bccf-b8ba43b33782', 'source': 'REMOTE.WORKSPACE.COMPONENT', 'validate_required_input_not_provided': True, 'limits': None, 'identity': None, 'distribution': None, 'environment_variables': {}, 'environment': None, 'resources': None, 'queue_settings': None, 'swept': False}), 'train_node': Command({'parameters': {}, 'init': False, 'name': 'train_node', 'type': 'command', 'status': None, 'log_files': None, 'description': None, 'tags': {}, 'properties': {}, 'print_as_yaml': True, 'id': None, 'Resource__source_path': None, 'base_path': '/mnt/batch/tasks/shared/LS_root/mounts/clusters/rc-cp-test/code/Users/ron.todo.poderoso/sample', 'creation_context': None, 'serialize': <msrest.serialization.Serializer object at 0x7fb0d0189e20>, 'allowed_keys': {}, 'key_restriction': False, 'logger': <Logger attr_dict (WARNING)>, 'display_name': None, 'experiment_name': None, 'compute': None, 'services': None, 'comment': None, 'job_inputs': {'max_epocs': '50', 'learning_rate': '0.01', 'learning_rate_schedule': 'step', 'training_data': '${{parent.jobs.clean_node.outputs.model_output}}'}, 'job_outputs': {}, 'inputs': {'max_epocs': <azure.ai.ml.entities._job.pipeline._io.base.NodeInput object at 0x7fb0d01898b0>, 'learning_rate': <azure.ai.ml.entities._job.pipeline._io.base.NodeInput object at 0x7fb0d0189790>, 'learning_rate_schedule': <azure.ai.ml.entities._job.pipeline._io.base.NodeInput object at 0x7fb0d01892b0>, 'training_data': <azure.ai.ml.entities._job.pipeline._io.base.NodeInput object at 0x7fb0d0189b20>}, 'outputs': {}, 'component': 'azureml_anonymous:3d41d105-5950-497e-b733-b5ddc3458b69', 'referenced_control_flow_node_instance_id': None, 'kwargs': {'services': None}, 'instance_id': '42c591e5-675c-4488-a8d2-a8758555b33a', 'source': 'REMOTE.WORKSPACE.COMPONENT', 'validate_required_input_not_provided': True, 'limits': None, 'identity': None, 'distribution': None, 'environment_variables': {}, 'environment': None, 'resources': None, 'queue_settings': None, 'swept': False}), 'score_node': Command({'parameters': {}, 'init': False, 'name': 'score_node', 'type': 'command', 'status': None, 'log_files': None, 'description': None, 'tags': {}, 'properties': {}, 'print_as_yaml': True, 'id': None, 'Resource__source_path': None, 'base_path': '/mnt/batch/tasks/shared/LS_root/mounts/clusters/rc-cp-test/code/Users/ron.todo.poderoso/sample', 'creation_context': None, 'serialize': <msrest.serialization.Serializer object at 0x7fb0d0189580>, 'allowed_keys': {}, 'key_restriction': False, 'logger': <Logger attr_dict (WARNING)>, 'display_name': None, 'experiment_name': None, 'compute': None, 'services': None, 'comment': None, 'job_inputs': {'model_input': '${{parent.jobs.train_node.outputs.model_output}}', 'test_data': '${{parent.inputs.pipeline_input_data}}'}, 'job_outputs': {}, 'inputs': {'model_input': <azure.ai.ml.entities._job.pipeline._io.base.NodeInput object at 0x7fb0d01890d0>, 'test_data': <azure.ai.ml.entities._job.pipeline._io.base.NodeInput object at 0x7fb0d01897f0>}, 'outputs': {}, 'component': 'azureml_anonymous:a7114f94-ca2d-4bc1-94b4-ba598309198e', 'referenced_control_flow_node_instance_id': None, 'kwargs': {'services': None}, 'instance_id': 'e6683d3d-8246-405a-af9d-c937f71dfda8', 'source': 'REMOTE.WORKSPACE.COMPONENT', 'validate_required_input_not_provided': True, 'limits': None, 'identity': None, 'distribution': None, 'environment_variables': {}, 'environment': None, 'resources': None, 'queue_settings': None, 'swept': False}), 'eval_node': Command({'parameters': {}, 'init': False, 'name': 'eval_node', 'type': 'command', 'status': None, 'log_files': None, 'description': None, 'tags': {}, 'properties': {}, 'print_as_yaml': True, 'id': None, 'Resource__source_path': None, 'base_path': '/mnt/batch/tasks/shared/LS_root/mounts/clusters/rc-cp-test/code/Users/ron.todo.poderoso/sample', 'creation_context': None, 'serialize': <msrest.serialization.Serializer object at 0x7fb0d01890a0>, 'allowed_keys': {}, 'key_restriction': False, 'logger': <Logger attr_dict (WARNING)>, 'display_name': None, 'experiment_name': None, 'compute': None, 'services': None, 'comment': None, 'job_inputs': {'scoring_result': '${{parent.jobs.score_node.outputs.score_output}}'}, 'job_outputs': {'eval_output': '${{parent.outputs.pipeline_eval_output}}'}, 'inputs': {'scoring_result': <azure.ai.ml.entities._job.pipeline._io.base.NodeInput object at 0x7fb0d0189160>}, 'outputs': {'eval_output': <azure.ai.ml.entities._job.pipeline._io.base.NodeOutput object at 0x7fb0d0189700>}, 'component': 'azureml_anonymous:1ef805f3-6bbb-468e-b6d1-2959f2a803c1', 'referenced_control_flow_node_instance_id': None, 'kwargs': {'services': None}, 'instance_id': 'a765d5ce-2117-432e-988f-687026c80a7a', 'source': 'REMOTE.WORKSPACE.COMPONENT', 'validate_required_input_not_provided': True, 'limits': None, 'identity': None, 'distribution': None, 'environment_variables': {}, 'environment': None, 'resources': None, 'queue_settings': None, 'swept': False})}, 'job_types': {'command': 4}, 'job_sources': {'REMOTE.WORKSPACE.COMPONENT': 4}, 'source_job_id': None}), 'type': 'pipeline', 'status': 'Preparing', 'log_files': None, 'name': 'tough_celery_28k5vzj8sd', 'description': None, 'tags': {}, 'properties': {'azureml.DevPlatv2': 'true', 'azureml.DatasetAccessMode': 'Asset', 'azureml.runsource': 'azureml.PipelineRun', 'runSource': 'MFE', 'runType': 'HTTP', 'azureml.parameters': '{}', 'azureml.continue_on_step_failure': 'True', 'azureml.continue_on_failed_optional_input': 'True', 'azureml.enforceRerun': 'False', 'azureml.defaultComputeName': 'cpu-cluster', 'azureml.defaultDataStoreName': 'workspaceblobstore', 'azureml.pipelineComponent': 'pipelinerun'}, 'print_as_yaml': True, 'id': '/subscriptions/46169265-43c5-42f4-b171-b27bdd8e5afa/resourceGroups/rchoque/providers/Microsoft.MachineLearningServices/workspaces/rc_ml_test/jobs/tough_celery_28k5vzj8sd', 'Resource__source_path': None, 'base_path': '/mnt/batch/tasks/shared/LS_root/mounts/clusters/rc-cp-test/code/Users/ron.todo.poderoso/sample', 'creation_context': <azure.ai.ml.entities._system_data.SystemData object at 0x7fb0d0189b80>, 'serialize': <msrest.serialization.Serializer object at 0x7fb0d01893a0>, 'display_name': 'water_potability_decision_tree_dummy', 'experiment_name': 'pipeline_water_potability_dummy', 'compute': None, 'services': {'Tracking': {'endpoint': 'azureml://westus.api.azureml.ms/mlflow/v1.0/subscriptions/46169265-43c5-42f4-b171-b27bdd8e5afa/resourceGroups/rchoque/providers/Microsoft.MachineLearningServices/workspaces/rc_ml_test?', 'type': 'Tracking'}, 'Studio': {'endpoint': 'https://ml.azure.com/runs/tough_celery_28k5vzj8sd?wsid=/subscriptions/46169265-43c5-42f4-b171-b27bdd8e5afa/resourcegroups/rchoque/workspaces/rc_ml_test&tid=65134df3-8913-4d88-99bd-5e270aaabf58', 'type': 'Studio'}}, 'settings': {}, 'identity': None, 'default_code': None, 'default_environment': None})"
            ]
          },
          "execution_count": 12,
          "metadata": {},
          "output_type": "execute_result"
        }
      ],
      "source": [
        "pipeline_job = ml_client.jobs.create_or_update(\n",
        "    pipeline_job, experiment_name=\"pipeline_water_potability_dummy\"\n",
        ")\n",
        "pipeline_job"
      ]
    },
    {
      "cell_type": "code",
      "execution_count": 21,
      "id": "c861cb3c-efb3-44be-a781-952efbe7a760",
      "metadata": {},
      "outputs": [
        {
          "name": "stdout",
          "output_type": "stream",
          "text": [
            "RunId: salmon_cumin_x219mxk1k3\n",
            "Web View: https://ml.azure.com/runs/salmon_cumin_x219mxk1k3?wsid=/subscriptions/46169265-43c5-42f4-b171-b27bdd8e5afa/resourcegroups/rchoque/workspaces/rc_ml_test\n"
          ]
        }
      ],
      "source": [
        "# wait until the job completes\n",
        "ml_client.jobs.stream(pipeline_job.name)\n"
      ]
    },
    {
      "cell_type": "code",
      "execution_count": 32,
      "id": "bb9474d1-ffff-48ca-8913-50e96ce0fef8",
      "metadata": {},
      "outputs": [
        {
          "name": "stderr",
          "output_type": "stream",
          "text": [
            "Downloading artifact azureml://subscriptions/b24420ec-4741-4157-b7a7-dce7f5d571f4/resourcegroups/DefaultResourceGroup-eastus2/workspaces/ucb-ws/datastores/workspaceblobstore/paths/azureml/56d1fd7e-6be9-4c74-8ea3-b4a6cb73736c/eval_output/ to pipeline_output/named-outputs/pipeline_eval_output\n",
            "Downloading artifact azureml://datastores/workspaceartifactstore/paths/ExperimentRun/dcid.helpful_tongue_mk8s16t1l6/ to pipeline_output/artifacts\n"
          ]
        }
      ],
      "source": [
        "# Download all the outputs of the job\n",
        "output = ml_client.jobs.download(name=pipeline_job.name, download_path='./pipeline_output', all=True)"
      ]
    },
    {
      "cell_type": "code",
      "execution_count": null,
      "id": "0700ea8a-9599-4baf-aaea-3c28b3d8c469",
      "metadata": {},
      "outputs": [],
      "source": []
    }
  ],
  "metadata": {
    "kernel_info": {
      "name": "python38-azureml"
    },
    "kernelspec": {
      "display_name": "Python 3.8 - AzureML",
      "language": "python",
      "name": "python38-azureml"
    },
    "language_info": {
      "codemirror_mode": {
        "name": "ipython",
        "version": 3
      },
      "file_extension": ".py",
      "mimetype": "text/x-python",
      "name": "python",
      "nbconvert_exporter": "python",
      "pygments_lexer": "ipython3",
      "version": "3.8.5"
    },
    "microsoft": {
      "host": {
        "AzureML": {
          "notebookHasBeenCompleted": true
        }
      },
      "ms_spell_check": {
        "ms_spell_check_language": "en"
      }
    },
    "nteract": {
      "version": "nteract-front-end@1.0.0"
    }
  },
  "nbformat": 4,
  "nbformat_minor": 5
}
